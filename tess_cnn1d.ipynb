{
  "nbformat": 4,
  "nbformat_minor": 0,
  "metadata": {
    "colab": {
      "name": "tess_cnn1d.ipynb",
      "provenance": [],
      "include_colab_link": true
    },
    "kernelspec": {
      "name": "python3",
      "display_name": "Python 3"
    },
    "accelerator": "GPU"
  },
  "cells": [
    {
      "cell_type": "markdown",
      "metadata": {
        "id": "view-in-github",
        "colab_type": "text"
      },
      "source": [
        "<a href=\"https://colab.research.google.com/github/HrithikBT/Emotion_Analysis/blob/master/tess_cnn1d.ipynb\" target=\"_parent\"><img src=\"https://colab.research.google.com/assets/colab-badge.svg\" alt=\"Open In Colab\"/></a>"
      ]
    },
    {
      "cell_type": "code",
      "metadata": {
        "id": "Kwpj7YmH8HOi",
        "colab_type": "code",
        "colab": {}
      },
      "source": [
        "pip install -q pysoundfile"
      ],
      "execution_count": 0,
      "outputs": []
    },
    {
      "cell_type": "code",
      "metadata": {
        "id": "pNZd49he8Ogm",
        "colab_type": "code",
        "colab": {}
      },
      "source": [
        "pip install -q librosa"
      ],
      "execution_count": 0,
      "outputs": []
    },
    {
      "cell_type": "code",
      "metadata": {
        "id": "G9FEH7IN8OlH",
        "colab_type": "code",
        "colab": {}
      },
      "source": [
        "pip install -q h5py"
      ],
      "execution_count": 0,
      "outputs": []
    },
    {
      "cell_type": "code",
      "metadata": {
        "id": "PedUTjU49lfz",
        "colab_type": "code",
        "outputId": "da4f65ab-b903-4579-e9cf-840afdb9de14",
        "colab": {
          "base_uri": "https://localhost:8080/",
          "height": 33
        }
      },
      "source": [
        "from google.colab import drive\n",
        "drive.mount('/content/drive')"
      ],
      "execution_count": 0,
      "outputs": [
        {
          "output_type": "stream",
          "text": [
            "Drive already mounted at /content/drive; to attempt to forcibly remount, call drive.mount(\"/content/drive\", force_remount=True).\n"
          ],
          "name": "stdout"
        }
      ]
    },
    {
      "cell_type": "code",
      "metadata": {
        "id": "qAepyyQx8OeD",
        "colab_type": "code",
        "outputId": "e3d496fb-9ba5-4b27-d513-c6bb68708dad",
        "colab": {
          "base_uri": "https://localhost:8080/",
          "height": 79
        }
      },
      "source": [
        "import soundfile # to read audio file\n",
        "import numpy as np\n",
        "import librosa # to extract speech features\n",
        "import glob\n",
        "import os\n",
        "import pickle # to save model after training\n",
        "from sklearn.model_selection import train_test_split # for splitting training and testing\n",
        "from sklearn.neural_network import MLPClassifier # multi-layer perceptron model\n",
        "from sklearn.metrics import accuracy_score # to measure how good we are\n",
        "import tensorflow as tf\n",
        "from tensorflow.keras import datasets, layers, models\n",
        "from tensorflow.keras.layers import Activation, Dense,Conv1D,Dropout,MaxPooling1D,Flatten\n",
        "from tensorflow import keras\n",
        "from keras.utils import np_utils\n",
        "from sklearn.preprocessing import LabelEncoder\n",
        "from sklearn.metrics import classification_report,accuracy_score\n",
        "from keras.models import model_from_json"
      ],
      "execution_count": 0,
      "outputs": [
        {
          "output_type": "display_data",
          "data": {
            "text/html": [
              "<p style=\"color: red;\">\n",
              "The default version of TensorFlow in Colab will soon switch to TensorFlow 2.x.<br>\n",
              "We recommend you <a href=\"https://www.tensorflow.org/guide/migrate\" target=\"_blank\">upgrade</a> now \n",
              "or ensure your notebook will continue to use TensorFlow 1.x via the <code>%tensorflow_version 1.x</code> magic:\n",
              "<a href=\"https://colab.research.google.com/notebooks/tensorflow_version.ipynb\" target=\"_blank\">more info</a>.</p>\n"
            ],
            "text/plain": [
              "<IPython.core.display.HTML object>"
            ]
          },
          "metadata": {
            "tags": []
          }
        },
        {
          "output_type": "stream",
          "text": [
            "Using TensorFlow backend.\n"
          ],
          "name": "stderr"
        }
      ]
    },
    {
      "cell_type": "code",
      "metadata": {
        "id": "iZEsNRTh8S-h",
        "colab_type": "code",
        "colab": {}
      },
      "source": [
        "def extract_feature(file_name, **kwargs):\n",
        "    \"\"\"\n",
        "    Extract feature from audio file `file_name`\n",
        "        Features supported:\n",
        "            - MFCC (mfcc)\n",
        "            - Chroma (chroma)\n",
        "            - MEL Spectrogram Frequency (mel)\n",
        "            - Contrast (contrast)\n",
        "            - Tonnetz (tonnetz)\n",
        "        e.g:\n",
        "        `features = extract_feature(path, mel=True, mfcc=True)`\n",
        "    \"\"\"\n",
        "    mfcc = kwargs.get(\"mfcc\")\n",
        "    chroma = kwargs.get(\"chroma\")\n",
        "    mel = kwargs.get(\"mel\")\n",
        "    contrast = kwargs.get(\"contrast\")\n",
        "    tonnetz = kwargs.get(\"tonnetz\")\n",
        "    with soundfile.SoundFile(file_name) as sound_file:\n",
        "        X = sound_file.read(dtype=\"float32\")\n",
        "        sample_rate = sound_file.samplerate\n",
        "        if chroma or contrast:\n",
        "            stft = np.abs(librosa.stft(X))\n",
        "        result = np.array([])\n",
        "        if mfcc:\n",
        "            mfccs = np.mean(librosa.feature.mfcc(y=X, sr=sample_rate, n_mfcc=40).T, axis=0)\n",
        "            result = np.hstack((result, mfccs))\n",
        "        if chroma:\n",
        "            chroma = np.mean(librosa.feature.chroma_stft(S=stft, sr=sample_rate).T,axis=0)\n",
        "            result = np.hstack((result, chroma))\n",
        "        if mel:\n",
        "            mel = np.mean(librosa.feature.melspectrogram(X, sr=sample_rate).T,axis=0)\n",
        "            result = np.hstack((result, mel))\n",
        "        if contrast:\n",
        "            contrast = np.mean(librosa.feature.spectral_contrast(S=stft, sr=sample_rate).T,axis=0)\n",
        "            result = np.hstack((result, contrast))\n",
        "        if tonnetz:\n",
        "            tonnetz = np.mean(librosa.feature.tonnetz(y=librosa.effects.harmonic(X), sr=sample_rate).T,axis=0)\n",
        "            result = np.hstack((result, tonnetz))\n",
        "    return result\n"
      ],
      "execution_count": 0,
      "outputs": []
    },
    {
      "cell_type": "code",
      "metadata": {
        "id": "kPYH7pZl8XPy",
        "colab_type": "code",
        "colab": {}
      },
      "source": [
        "# all emotions on TESS dataset\n",
        "AVAILABLE_EMOTIONS = {\n",
        "    \"angry\",\n",
        "    \"sad\",\n",
        "    \"neutral\",\n",
        "    \"happy\",\n",
        "    \"fear\",\n",
        "    \"ps\",\n",
        "    \"disgust\"\n",
        "}"
      ],
      "execution_count": 0,
      "outputs": []
    },
    {
      "cell_type": "code",
      "metadata": {
        "id": "TmYzCmcG8djG",
        "colab_type": "code",
        "colab": {}
      },
      "source": [
        "def load_data(test_size=0.2):\n",
        "    X, y = [], []\n",
        "    for file in glob.glob(\"/content/drive/My Drive/TESS/*talker_*/*.wav\"):\n",
        "        # get the base name of the audio file\n",
        "        basename = os.path.basename(file)\n",
        "        # get the emotion label\n",
        "        emotion = (basename.split(\"_\")[2]).split(\".\")[0]\n",
        "        # we allow only AVAILABLE_EMOTIONS we set\n",
        "        if emotion not in AVAILABLE_EMOTIONS:\n",
        "            continue\n",
        "        # extract speech features\n",
        "        features = extract_feature(file, mfcc=True, chroma=True, mel=True)\n",
        "        # add to data\n",
        "        X.append(features)\n",
        "        y.append(emotion)\n",
        "    # split the data to training and testing and return it\n",
        "    return train_test_split(np.array(X), y, test_size=test_size, random_state=7)"
      ],
      "execution_count": 0,
      "outputs": []
    },
    {
      "cell_type": "code",
      "metadata": {
        "id": "MP8gVeWl8jAB",
        "colab_type": "code",
        "colab": {}
      },
      "source": [
        "# load TESS dataset, 75% training 25% testing\n",
        "X_train, X_test, y_train, y_test = load_data(test_size=0.25)\n",
        "X_train, X_predict, y_train, y_predict = train_test_split(np.array(X_train), y_train, test_size=.20, random_state=7)\n",
        "#'''\n",
        "y_train = np.array(y_train)\n",
        "#print(np.unique(y_train))\n",
        "y_test = np.array(y_test)\n",
        "y_predict = np.array(y_predict)"
      ],
      "execution_count": 0,
      "outputs": []
    },
    {
      "cell_type": "code",
      "metadata": {
        "id": "0GpB-1_r8ndS",
        "colab_type": "code",
        "colab": {}
      },
      "source": [
        "lb = LabelEncoder()\n",
        "y_train = np_utils.to_categorical(lb.fit_transform(y_train))\n",
        "y_test = np_utils.to_categorical(lb.fit_transform(y_test))\n",
        "y_predict = np_utils.to_categorical(lb.fit_transform(y_predict))"
      ],
      "execution_count": 0,
      "outputs": []
    },
    {
      "cell_type": "code",
      "metadata": {
        "id": "EUPjXoOlAq6y",
        "colab_type": "code",
        "outputId": "0985e4fc-8d23-4874-ec7f-01ee33e5406a",
        "colab": {
          "base_uri": "https://localhost:8080/",
          "height": 67
        }
      },
      "source": [
        "print(y_train.shape)\n",
        "print(y_test.shape)\n",
        "print(y_predict.shape)"
      ],
      "execution_count": 0,
      "outputs": [
        {
          "output_type": "stream",
          "text": [
            "(1680, 7)\n",
            "(700, 7)\n",
            "(420, 7)\n"
          ],
          "name": "stdout"
        }
      ]
    },
    {
      "cell_type": "code",
      "metadata": {
        "id": "ePCrDLJe8rIW",
        "colab_type": "code",
        "outputId": "9c341f59-27b2-47d5-d3ee-17298e5084e9",
        "colab": {
          "base_uri": "https://localhost:8080/",
          "height": 67
        }
      },
      "source": [
        "# print some details\n",
        "# number of samples in training data\n",
        "print(\"[+] Number of training samples:\", X_train.shape[0])\n",
        "# number of samples in testing data\n",
        "print(\"[+] Number of testing samples:\", X_test.shape[0])\n",
        "# number of features used\n",
        "# this is a vector of features extracted \n",
        "# using extract_features() function\n",
        "print(\"[+] Number of features:\", X_train.shape[1])"
      ],
      "execution_count": 0,
      "outputs": [
        {
          "output_type": "stream",
          "text": [
            "[+] Number of training samples: 1680\n",
            "[+] Number of testing samples: 700\n",
            "[+] Number of features: 180\n"
          ],
          "name": "stdout"
        }
      ]
    },
    {
      "cell_type": "code",
      "metadata": {
        "id": "z_0FswIE8uR-",
        "colab_type": "code",
        "colab": {}
      },
      "source": [
        "x_traincnn =np.expand_dims(X_train, axis=2)\n",
        "x_testcnn= np.expand_dims(X_test, axis=2)\n",
        "X_predict = np.expand_dims(X_predict,axis=2)"
      ],
      "execution_count": 0,
      "outputs": []
    },
    {
      "cell_type": "code",
      "metadata": {
        "id": "fKTxPORk8yXh",
        "colab_type": "code",
        "outputId": "c72b0a6a-3aa5-4fd5-82e5-7e68d75c760c",
        "colab": {
          "base_uri": "https://localhost:8080/",
          "height": 87
        }
      },
      "source": [
        "model = models.Sequential()\n",
        "model.add(Conv1D(256, 5,padding='same', input_shape=(180,1))) #1\n",
        "model.add(Activation('relu'))\n",
        "model.add(Conv1D(128, 5,padding='same')) #2\n",
        "model.add(Activation('relu'))\n",
        "model.add(Dropout(0.1))\n",
        "model.add(MaxPooling1D(pool_size=(8)))\n",
        "model.add(Conv1D(128, 5,padding='same')) #3\n",
        "model.add(Activation('relu'))\n",
        "#model.add(Conv1D(128, 5,padding='same')) #4\n",
        "#model.add(Activation('relu'))\n",
        "#model.add(Conv1D(128, 5,padding='same')) #5\n",
        "#model.add(Activation('relu'))\n",
        "#model.add(Dropout(0.2))\n",
        "model.add(Conv1D(128, 5,padding='same')) #6\n",
        "model.add(Activation('relu'))\n",
        "model.add(Flatten())\n",
        "model.add(Dense(7)) #7\n",
        "model.add(Activation('softmax'))\n",
        "opt = keras.optimizers.RMSprop(lr=0.00001, decay=1e-6)"
      ],
      "execution_count": 0,
      "outputs": [
        {
          "output_type": "stream",
          "text": [
            "WARNING:tensorflow:From /usr/local/lib/python3.6/dist-packages/tensorflow_core/python/ops/resource_variable_ops.py:1630: calling BaseResourceVariable.__init__ (from tensorflow.python.ops.resource_variable_ops) with constraint is deprecated and will be removed in a future version.\n",
            "Instructions for updating:\n",
            "If using Keras pass *_constraint arguments to layers.\n"
          ],
          "name": "stdout"
        }
      ]
    },
    {
      "cell_type": "code",
      "metadata": {
        "id": "GjTGxnqH82gp",
        "colab_type": "code",
        "colab": {}
      },
      "source": [
        "# Compile Model\n",
        "model.compile(loss='categorical_crossentropy', optimizer=opt,metrics=['accuracy'])"
      ],
      "execution_count": 0,
      "outputs": []
    },
    {
      "cell_type": "code",
      "metadata": {
        "id": "fmFBaPOG88k4",
        "colab_type": "code",
        "outputId": "35d7540c-30a7-4538-f6a7-ed3558e0e559",
        "colab": {
          "base_uri": "https://localhost:8080/",
          "height": 1000
        }
      },
      "source": [
        "# Fit Model\n",
        "history = model.fit(np.array(x_traincnn), y_train, batch_size=16, epochs=100, validation_data=(np.array(x_testcnn), y_test))"
      ],
      "execution_count": 0,
      "outputs": [
        {
          "output_type": "stream",
          "text": [
            "Train on 1680 samples, validate on 700 samples\n",
            "Epoch 1/100\n",
            "1680/1680 [==============================] - 4s 3ms/sample - loss: 1.8510 - acc: 0.2881 - val_loss: 1.6340 - val_acc: 0.6729\n",
            "Epoch 2/100\n",
            "1680/1680 [==============================] - 1s 418us/sample - loss: 1.5019 - acc: 0.5542 - val_loss: 1.3769 - val_acc: 0.7171\n",
            "Epoch 3/100\n",
            "1680/1680 [==============================] - 1s 414us/sample - loss: 1.2349 - acc: 0.7000 - val_loss: 1.1136 - val_acc: 0.8186\n",
            "Epoch 4/100\n",
            "1680/1680 [==============================] - 1s 399us/sample - loss: 0.9899 - acc: 0.7863 - val_loss: 0.9027 - val_acc: 0.8629\n",
            "Epoch 5/100\n",
            "1680/1680 [==============================] - 1s 406us/sample - loss: 0.8068 - acc: 0.8292 - val_loss: 0.7372 - val_acc: 0.8686\n",
            "Epoch 6/100\n",
            "1680/1680 [==============================] - 1s 401us/sample - loss: 0.6634 - acc: 0.8589 - val_loss: 0.6113 - val_acc: 0.8686\n",
            "Epoch 7/100\n",
            "1680/1680 [==============================] - 1s 409us/sample - loss: 0.5510 - acc: 0.8762 - val_loss: 0.5108 - val_acc: 0.8871\n",
            "Epoch 8/100\n",
            "1680/1680 [==============================] - 1s 415us/sample - loss: 0.4627 - acc: 0.8946 - val_loss: 0.4339 - val_acc: 0.9043\n",
            "Epoch 9/100\n",
            "1680/1680 [==============================] - 1s 409us/sample - loss: 0.3874 - acc: 0.9125 - val_loss: 0.3665 - val_acc: 0.9329\n",
            "Epoch 10/100\n",
            "1680/1680 [==============================] - 1s 408us/sample - loss: 0.3352 - acc: 0.9274 - val_loss: 0.3137 - val_acc: 0.9529\n",
            "Epoch 11/100\n",
            "1680/1680 [==============================] - 1s 404us/sample - loss: 0.2833 - acc: 0.9452 - val_loss: 0.2783 - val_acc: 0.9643\n",
            "Epoch 12/100\n",
            "1680/1680 [==============================] - 1s 404us/sample - loss: 0.2469 - acc: 0.9548 - val_loss: 0.2372 - val_acc: 0.9571\n",
            "Epoch 13/100\n",
            "1680/1680 [==============================] - 1s 400us/sample - loss: 0.2178 - acc: 0.9589 - val_loss: 0.2171 - val_acc: 0.9657\n",
            "Epoch 14/100\n",
            "1680/1680 [==============================] - 1s 407us/sample - loss: 0.1927 - acc: 0.9619 - val_loss: 0.1910 - val_acc: 0.9700\n",
            "Epoch 15/100\n",
            "1680/1680 [==============================] - 1s 406us/sample - loss: 0.1730 - acc: 0.9685 - val_loss: 0.1856 - val_acc: 0.9629\n",
            "Epoch 16/100\n",
            "1680/1680 [==============================] - 1s 401us/sample - loss: 0.1600 - acc: 0.9679 - val_loss: 0.1566 - val_acc: 0.9714\n",
            "Epoch 17/100\n",
            "1680/1680 [==============================] - 1s 403us/sample - loss: 0.1452 - acc: 0.9690 - val_loss: 0.1453 - val_acc: 0.9729\n",
            "Epoch 18/100\n",
            "1680/1680 [==============================] - 1s 412us/sample - loss: 0.1337 - acc: 0.9696 - val_loss: 0.1300 - val_acc: 0.9757\n",
            "Epoch 19/100\n",
            "1680/1680 [==============================] - 1s 406us/sample - loss: 0.1193 - acc: 0.9738 - val_loss: 0.1237 - val_acc: 0.9757\n",
            "Epoch 20/100\n",
            "1680/1680 [==============================] - 1s 403us/sample - loss: 0.1140 - acc: 0.9744 - val_loss: 0.1220 - val_acc: 0.9743\n",
            "Epoch 21/100\n",
            "1680/1680 [==============================] - 1s 409us/sample - loss: 0.1065 - acc: 0.9738 - val_loss: 0.1044 - val_acc: 0.9786\n",
            "Epoch 22/100\n",
            "1680/1680 [==============================] - 1s 402us/sample - loss: 0.0997 - acc: 0.9732 - val_loss: 0.1145 - val_acc: 0.9714\n",
            "Epoch 23/100\n",
            "1680/1680 [==============================] - 1s 405us/sample - loss: 0.0984 - acc: 0.9774 - val_loss: 0.0976 - val_acc: 0.9771\n",
            "Epoch 24/100\n",
            "1680/1680 [==============================] - 1s 393us/sample - loss: 0.0894 - acc: 0.9792 - val_loss: 0.0974 - val_acc: 0.9786\n",
            "Epoch 25/100\n",
            "1680/1680 [==============================] - 1s 411us/sample - loss: 0.0867 - acc: 0.9774 - val_loss: 0.0853 - val_acc: 0.9800\n",
            "Epoch 26/100\n",
            "1680/1680 [==============================] - 1s 404us/sample - loss: 0.0832 - acc: 0.9821 - val_loss: 0.0830 - val_acc: 0.9814\n",
            "Epoch 27/100\n",
            "1680/1680 [==============================] - 1s 400us/sample - loss: 0.0806 - acc: 0.9792 - val_loss: 0.0833 - val_acc: 0.9800\n",
            "Epoch 28/100\n",
            "1680/1680 [==============================] - 1s 402us/sample - loss: 0.0768 - acc: 0.9821 - val_loss: 0.0772 - val_acc: 0.9814\n",
            "Epoch 29/100\n",
            "1680/1680 [==============================] - 1s 399us/sample - loss: 0.0718 - acc: 0.9857 - val_loss: 0.0765 - val_acc: 0.9829\n",
            "Epoch 30/100\n",
            "1680/1680 [==============================] - 1s 396us/sample - loss: 0.0714 - acc: 0.9798 - val_loss: 0.0688 - val_acc: 0.9843\n",
            "Epoch 31/100\n",
            "1680/1680 [==============================] - 1s 402us/sample - loss: 0.0664 - acc: 0.9863 - val_loss: 0.0685 - val_acc: 0.9814\n",
            "Epoch 32/100\n",
            "1680/1680 [==============================] - 1s 401us/sample - loss: 0.0664 - acc: 0.9821 - val_loss: 0.0749 - val_acc: 0.9786\n",
            "Epoch 33/100\n",
            "1680/1680 [==============================] - 1s 400us/sample - loss: 0.0648 - acc: 0.9833 - val_loss: 0.0627 - val_acc: 0.9843\n",
            "Epoch 34/100\n",
            "1680/1680 [==============================] - 1s 400us/sample - loss: 0.0614 - acc: 0.9845 - val_loss: 0.0660 - val_acc: 0.9843\n",
            "Epoch 35/100\n",
            "1680/1680 [==============================] - 1s 395us/sample - loss: 0.0575 - acc: 0.9869 - val_loss: 0.0625 - val_acc: 0.9857\n",
            "Epoch 36/100\n",
            "1680/1680 [==============================] - 1s 395us/sample - loss: 0.0559 - acc: 0.9875 - val_loss: 0.0610 - val_acc: 0.9829\n",
            "Epoch 37/100\n",
            "1680/1680 [==============================] - 1s 404us/sample - loss: 0.0558 - acc: 0.9863 - val_loss: 0.0561 - val_acc: 0.9843\n",
            "Epoch 38/100\n",
            "1680/1680 [==============================] - 1s 406us/sample - loss: 0.0529 - acc: 0.9869 - val_loss: 0.0523 - val_acc: 0.9857\n",
            "Epoch 39/100\n",
            "1680/1680 [==============================] - 1s 408us/sample - loss: 0.0502 - acc: 0.9857 - val_loss: 0.0603 - val_acc: 0.9829\n",
            "Epoch 40/100\n",
            "1680/1680 [==============================] - 1s 414us/sample - loss: 0.0494 - acc: 0.9875 - val_loss: 0.0581 - val_acc: 0.9829\n",
            "Epoch 41/100\n",
            "1680/1680 [==============================] - 1s 403us/sample - loss: 0.0496 - acc: 0.9887 - val_loss: 0.0489 - val_acc: 0.9900\n",
            "Epoch 42/100\n",
            "1680/1680 [==============================] - 1s 400us/sample - loss: 0.0469 - acc: 0.9881 - val_loss: 0.0509 - val_acc: 0.9857\n",
            "Epoch 43/100\n",
            "1680/1680 [==============================] - 1s 405us/sample - loss: 0.0454 - acc: 0.9875 - val_loss: 0.0484 - val_acc: 0.9871\n",
            "Epoch 44/100\n",
            "1680/1680 [==============================] - 1s 398us/sample - loss: 0.0446 - acc: 0.9881 - val_loss: 0.0449 - val_acc: 0.9871\n",
            "Epoch 45/100\n",
            "1680/1680 [==============================] - 1s 401us/sample - loss: 0.0437 - acc: 0.9875 - val_loss: 0.0488 - val_acc: 0.9843\n",
            "Epoch 46/100\n",
            "1680/1680 [==============================] - 1s 401us/sample - loss: 0.0407 - acc: 0.9911 - val_loss: 0.0439 - val_acc: 0.9871\n",
            "Epoch 47/100\n",
            "1680/1680 [==============================] - 1s 419us/sample - loss: 0.0402 - acc: 0.9905 - val_loss: 0.0419 - val_acc: 0.9886\n",
            "Epoch 48/100\n",
            "1680/1680 [==============================] - 1s 418us/sample - loss: 0.0404 - acc: 0.9899 - val_loss: 0.0424 - val_acc: 0.9886\n",
            "Epoch 49/100\n",
            "1680/1680 [==============================] - 1s 411us/sample - loss: 0.0383 - acc: 0.9905 - val_loss: 0.0407 - val_acc: 0.9886\n",
            "Epoch 50/100\n",
            "1680/1680 [==============================] - 1s 414us/sample - loss: 0.0363 - acc: 0.9917 - val_loss: 0.0388 - val_acc: 0.9929\n",
            "Epoch 51/100\n",
            "1680/1680 [==============================] - 1s 419us/sample - loss: 0.0369 - acc: 0.9905 - val_loss: 0.0378 - val_acc: 0.9871\n",
            "Epoch 52/100\n",
            "1680/1680 [==============================] - 1s 424us/sample - loss: 0.0355 - acc: 0.9899 - val_loss: 0.0374 - val_acc: 0.9886\n",
            "Epoch 53/100\n",
            "1680/1680 [==============================] - 1s 418us/sample - loss: 0.0342 - acc: 0.9905 - val_loss: 0.0365 - val_acc: 0.9900\n",
            "Epoch 54/100\n",
            "1680/1680 [==============================] - 1s 413us/sample - loss: 0.0342 - acc: 0.9905 - val_loss: 0.0390 - val_acc: 0.9886\n",
            "Epoch 55/100\n",
            "1680/1680 [==============================] - 1s 412us/sample - loss: 0.0325 - acc: 0.9935 - val_loss: 0.0386 - val_acc: 0.9886\n",
            "Epoch 56/100\n",
            "1680/1680 [==============================] - 1s 416us/sample - loss: 0.0313 - acc: 0.9923 - val_loss: 0.0345 - val_acc: 0.9900\n",
            "Epoch 57/100\n",
            "1680/1680 [==============================] - 1s 416us/sample - loss: 0.0306 - acc: 0.9923 - val_loss: 0.0382 - val_acc: 0.9886\n",
            "Epoch 58/100\n",
            "1680/1680 [==============================] - 1s 408us/sample - loss: 0.0306 - acc: 0.9917 - val_loss: 0.0330 - val_acc: 0.9900\n",
            "Epoch 59/100\n",
            "1680/1680 [==============================] - 1s 411us/sample - loss: 0.0293 - acc: 0.9923 - val_loss: 0.0335 - val_acc: 0.9900\n",
            "Epoch 60/100\n",
            "1680/1680 [==============================] - 1s 419us/sample - loss: 0.0265 - acc: 0.9935 - val_loss: 0.0352 - val_acc: 0.9871\n",
            "Epoch 61/100\n",
            "1680/1680 [==============================] - 1s 410us/sample - loss: 0.0248 - acc: 0.9940 - val_loss: 0.0356 - val_acc: 0.9886\n",
            "Epoch 62/100\n",
            "1680/1680 [==============================] - 1s 429us/sample - loss: 0.0280 - acc: 0.9923 - val_loss: 0.0292 - val_acc: 0.9914\n",
            "Epoch 63/100\n",
            "1680/1680 [==============================] - 1s 402us/sample - loss: 0.0258 - acc: 0.9940 - val_loss: 0.0329 - val_acc: 0.9886\n",
            "Epoch 64/100\n",
            "1680/1680 [==============================] - 1s 399us/sample - loss: 0.0248 - acc: 0.9935 - val_loss: 0.0317 - val_acc: 0.9900\n",
            "Epoch 65/100\n",
            "1680/1680 [==============================] - 1s 398us/sample - loss: 0.0236 - acc: 0.9935 - val_loss: 0.0289 - val_acc: 0.9900\n",
            "Epoch 66/100\n",
            "1680/1680 [==============================] - 1s 401us/sample - loss: 0.0229 - acc: 0.9946 - val_loss: 0.0308 - val_acc: 0.9900\n",
            "Epoch 67/100\n",
            "1680/1680 [==============================] - 1s 399us/sample - loss: 0.0224 - acc: 0.9946 - val_loss: 0.0325 - val_acc: 0.9900\n",
            "Epoch 68/100\n",
            "1680/1680 [==============================] - 1s 412us/sample - loss: 0.0225 - acc: 0.9935 - val_loss: 0.0280 - val_acc: 0.9929\n",
            "Epoch 69/100\n",
            "1680/1680 [==============================] - 1s 412us/sample - loss: 0.0213 - acc: 0.9940 - val_loss: 0.0240 - val_acc: 0.9929\n",
            "Epoch 70/100\n",
            "1680/1680 [==============================] - 1s 404us/sample - loss: 0.0198 - acc: 0.9952 - val_loss: 0.0247 - val_acc: 0.9900\n",
            "Epoch 71/100\n",
            "1680/1680 [==============================] - 1s 408us/sample - loss: 0.0205 - acc: 0.9952 - val_loss: 0.0287 - val_acc: 0.9900\n",
            "Epoch 72/100\n",
            "1680/1680 [==============================] - 1s 402us/sample - loss: 0.0201 - acc: 0.9946 - val_loss: 0.0242 - val_acc: 0.9929\n",
            "Epoch 73/100\n",
            "1680/1680 [==============================] - 1s 402us/sample - loss: 0.0199 - acc: 0.9946 - val_loss: 0.0226 - val_acc: 0.9929\n",
            "Epoch 74/100\n",
            "1680/1680 [==============================] - 1s 406us/sample - loss: 0.0177 - acc: 0.9940 - val_loss: 0.0233 - val_acc: 0.9929\n",
            "Epoch 75/100\n",
            "1680/1680 [==============================] - 1s 407us/sample - loss: 0.0175 - acc: 0.9946 - val_loss: 0.0243 - val_acc: 0.9929\n",
            "Epoch 76/100\n",
            "1680/1680 [==============================] - 1s 403us/sample - loss: 0.0183 - acc: 0.9964 - val_loss: 0.0217 - val_acc: 0.9929\n",
            "Epoch 77/100\n",
            "1680/1680 [==============================] - 1s 406us/sample - loss: 0.0169 - acc: 0.9964 - val_loss: 0.0243 - val_acc: 0.9929\n",
            "Epoch 78/100\n",
            "1680/1680 [==============================] - 1s 408us/sample - loss: 0.0168 - acc: 0.9964 - val_loss: 0.0277 - val_acc: 0.9914\n",
            "Epoch 79/100\n",
            "1680/1680 [==============================] - 1s 406us/sample - loss: 0.0175 - acc: 0.9946 - val_loss: 0.0225 - val_acc: 0.9929\n",
            "Epoch 80/100\n",
            "1680/1680 [==============================] - 1s 414us/sample - loss: 0.0154 - acc: 0.9964 - val_loss: 0.0231 - val_acc: 0.9943\n",
            "Epoch 81/100\n",
            "1680/1680 [==============================] - 1s 412us/sample - loss: 0.0147 - acc: 0.9958 - val_loss: 0.0221 - val_acc: 0.9929\n",
            "Epoch 82/100\n",
            "1680/1680 [==============================] - 1s 399us/sample - loss: 0.0148 - acc: 0.9970 - val_loss: 0.0274 - val_acc: 0.9886\n",
            "Epoch 83/100\n",
            "1680/1680 [==============================] - 1s 399us/sample - loss: 0.0139 - acc: 0.9964 - val_loss: 0.0205 - val_acc: 0.9929\n",
            "Epoch 84/100\n",
            "1680/1680 [==============================] - 1s 414us/sample - loss: 0.0144 - acc: 0.9970 - val_loss: 0.0194 - val_acc: 0.9943\n",
            "Epoch 85/100\n",
            "1680/1680 [==============================] - 1s 400us/sample - loss: 0.0138 - acc: 0.9964 - val_loss: 0.0209 - val_acc: 0.9943\n",
            "Epoch 86/100\n",
            "1680/1680 [==============================] - 1s 409us/sample - loss: 0.0122 - acc: 0.9982 - val_loss: 0.0213 - val_acc: 0.9929\n",
            "Epoch 87/100\n",
            "1680/1680 [==============================] - 1s 403us/sample - loss: 0.0128 - acc: 0.9958 - val_loss: 0.0172 - val_acc: 0.9957\n",
            "Epoch 88/100\n",
            "1680/1680 [==============================] - 1s 398us/sample - loss: 0.0122 - acc: 0.9970 - val_loss: 0.0208 - val_acc: 0.9943\n",
            "Epoch 89/100\n",
            "1680/1680 [==============================] - 1s 400us/sample - loss: 0.0126 - acc: 0.9970 - val_loss: 0.0183 - val_acc: 0.9943\n",
            "Epoch 90/100\n",
            "1680/1680 [==============================] - 1s 400us/sample - loss: 0.0122 - acc: 0.9964 - val_loss: 0.0186 - val_acc: 0.9929\n",
            "Epoch 91/100\n",
            "1680/1680 [==============================] - 1s 402us/sample - loss: 0.0119 - acc: 0.9970 - val_loss: 0.0164 - val_acc: 0.9943\n",
            "Epoch 92/100\n",
            "1680/1680 [==============================] - 1s 416us/sample - loss: 0.0112 - acc: 0.9976 - val_loss: 0.0183 - val_acc: 0.9914\n",
            "Epoch 93/100\n",
            "1680/1680 [==============================] - 1s 404us/sample - loss: 0.0100 - acc: 0.9988 - val_loss: 0.0197 - val_acc: 0.9943\n",
            "Epoch 94/100\n",
            "1680/1680 [==============================] - 1s 396us/sample - loss: 0.0097 - acc: 0.9982 - val_loss: 0.0185 - val_acc: 0.9957\n",
            "Epoch 95/100\n",
            "1680/1680 [==============================] - 1s 405us/sample - loss: 0.0106 - acc: 0.9982 - val_loss: 0.0168 - val_acc: 0.9986\n",
            "Epoch 96/100\n",
            "1680/1680 [==============================] - 1s 407us/sample - loss: 0.0091 - acc: 0.9988 - val_loss: 0.0177 - val_acc: 0.9929\n",
            "Epoch 97/100\n",
            "1680/1680 [==============================] - 1s 402us/sample - loss: 0.0095 - acc: 0.9982 - val_loss: 0.0189 - val_acc: 0.9943\n",
            "Epoch 98/100\n",
            "1680/1680 [==============================] - 1s 414us/sample - loss: 0.0097 - acc: 0.9976 - val_loss: 0.0186 - val_acc: 0.9943\n",
            "Epoch 99/100\n",
            "1680/1680 [==============================] - 1s 401us/sample - loss: 0.0098 - acc: 0.9970 - val_loss: 0.0157 - val_acc: 0.9943\n",
            "Epoch 100/100\n",
            "1680/1680 [==============================] - 1s 404us/sample - loss: 0.0085 - acc: 0.9976 - val_loss: 0.0174 - val_acc: 0.9929\n"
          ],
          "name": "stdout"
        }
      ]
    },
    {
      "cell_type": "code",
      "metadata": {
        "id": "cPdfO9X8yuTf",
        "colab_type": "code",
        "outputId": "773b1ddd-b043-4041-f27b-c73cf86291eb",
        "colab": {
          "base_uri": "https://localhost:8080/",
          "height": 573
        }
      },
      "source": [
        "import matplotlib.pyplot as plt\n",
        "\n",
        "plt.plot(history.history['acc'])\n",
        "plt.plot(history.history['val_acc'])\n",
        "plt.title('Model accuracy')\n",
        "plt.ylabel('Accuracy')\n",
        "plt.xlabel('Epoch')\n",
        "plt.legend(['Train', 'Test'], loc='upper left')\n",
        "plt.show()\n",
        "\n",
        "# Plot training & validation loss values\n",
        "plt.plot(history.history['loss'])\n",
        "plt.plot(history.history['val_loss'])\n",
        "plt.title('Model loss')\n",
        "plt.ylabel('Loss')\n",
        "plt.xlabel('Epoch')\n",
        "plt.legend(['Train', 'Test'], loc='upper left')\n",
        "plt.show()"
      ],
      "execution_count": 0,
      "outputs": [
        {
          "output_type": "display_data",
          "data": {
            "image/png": "[encoded data removed]",
            "text/plain": [
              "<Figure size 432x288 with 1 Axes>"
            ]
          },
          "metadata": {
            "tags": []
          }
        },
        {
          "output_type": "display_data",
          "data": {
            "image/png": "[encoded data removed]",
            "text/plain": [
              "<Figure size 432x288 with 1 Axes>"
            ]
          },
          "metadata": {
            "tags": []
          }
        }
      ]
    },
    {
      "cell_type": "code",
      "metadata": {
        "id": "jJzapgzz_aLE",
        "colab_type": "code",
        "colab": {}
      },
      "source": [
        "preds = model.predict(X_predict)"
      ],
      "execution_count": 0,
      "outputs": []
    },
    {
      "cell_type": "code",
      "metadata": {
        "id": "SnIzau_L_bxb",
        "colab_type": "code",
        "colab": {}
      },
      "source": [
        "print(classification_report(np.argmax(y_predict,axis=1), np.argmax(preds,axis=1)))\n",
        "# calculate the accuracy\n",
        "accuracy = accuracy_score(y_true=np.argmax(y_predict,axis=1), y_pred=np.argmax(preds,axis=1))\n",
        "\n",
        "print(\"Accuracy: {:.2f}%\".format(accuracy*100))\n",
        "# now we save the model\n",
        "# make result directory if doesn't exist yet\n",
        "\n",
        "#\n",
        "#'''"
      ],
      "execution_count": 0,
      "outputs": []
    },
    {
      "cell_type": "code",
      "metadata": {
        "id": "k-ehpIYq9BUm",
        "colab_type": "code",
        "colab": {}
      },
      "source": [
        "model.save(\"/content/drive/My Drive/Saved_models/model.tess_cnn1d.h5\")\n",
        "print(\"Model saved\")"
      ],
      "execution_count": 0,
      "outputs": []
    }
  ]
}